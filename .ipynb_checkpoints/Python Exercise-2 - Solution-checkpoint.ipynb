{
 "cells": [
  {
   "cell_type": "markdown",
   "metadata": {
    "collapsed": true
   },
   "source": [
    "### 1.\tWhat is the output of the following Python program section?\n",
    "    st='Python Programming' \n",
    "    x=st.lower()\n",
    "    y=x.replace('python','Python')\n",
    "    print y\n"
   ]
  },
  {
   "cell_type": "code",
   "execution_count": 2,
   "metadata": {
    "collapsed": false
   },
   "outputs": [],
   "source": [
    "#Python programming"
   ]
  },
  {
   "cell_type": "markdown",
   "metadata": {
    "collapsed": true
   },
   "source": [
    "### 2.\ttxt='Python is powerful and easy.'\n",
    "  words=txt.split(' ')\n",
    "  l=len(worlds)\n",
    "   print l\n"
   ]
  },
  {
   "cell_type": "code",
   "execution_count": 7,
   "metadata": {
    "collapsed": false
   },
   "outputs": [],
   "source": [
    "#5"
   ]
  },
  {
   "cell_type": "markdown",
   "metadata": {
    "collapsed": true
   },
   "source": [
    "### 3.\tWhat would be the output from the following Python program section?\n",
    "  st=['P','y','t','h','o','n']\n",
    "  w=''.join(st)\n",
    "  print w\n"
   ]
  },
  {
   "cell_type": "code",
   "execution_count": 11,
   "metadata": {
    "collapsed": false
   },
   "outputs": [
    {
     "name": "stdout",
     "output_type": "stream",
     "text": [
      "Python\n"
     ]
    }
   ],
   "source": [
    "st=['P','y','t','h','o','n'] \n",
    "w=''.join(st)\n",
    "print w\n"
   ]
  },
  {
   "cell_type": "markdown",
   "metadata": {
    "collapsed": true
   },
   "source": [
    "### 4.\tHow to check if a String contains only digits?"
   ]
  },
  {
   "cell_type": "code",
   "execution_count": 14,
   "metadata": {
    "collapsed": false
   },
   "outputs": [
    {
     "name": "stdout",
     "output_type": "stream",
     "text": [
      "False\n"
     ]
    }
   ],
   "source": [
    "strs=\"12kaushidk\"\n",
    "#help(str)\n",
    "\n",
    "print strs.isdigit()\n"
   ]
  },
  {
   "cell_type": "markdown",
   "metadata": {
    "collapsed": true
   },
   "source": [
    "### 5.\tHow to count number of vowels and consonants in a String?"
   ]
  },
  {
   "cell_type": "code",
   "execution_count": 24,
   "metadata": {
    "collapsed": false
   },
   "outputs": [
    {
     "name": "stdout",
     "output_type": "stream",
     "text": [
      "Vowels 5 , Consonants 8\n"
     ]
    }
   ],
   "source": [
    "vowelscount=0\n",
    "consonants=0\n",
    "vowels=\"aeiou\"\n",
    "strs=\"kings never die\"\n",
    "for x in strs:\n",
    "    if x.isspace()==False:\n",
    "        if x in vowels:\n",
    "            vowelscount+=1\n",
    "        else:\n",
    "            consonants+=1\n",
    "print \"Vowels {0} , Consonants {1}\".format(vowelscount,consonants)"
   ]
  },
  {
   "cell_type": "markdown",
   "metadata": {
    "collapsed": true
   },
   "source": [
    "### 6.\tHow to replace each given character to other e.g. blank with %20? "
   ]
  },
  {
   "cell_type": "code",
   "execution_count": 25,
   "metadata": {
    "collapsed": false
   },
   "outputs": [
    {
     "data": {
      "text/plain": [
       "'Kings%20Never%20Die'"
      ]
     },
     "execution_count": 25,
     "metadata": {},
     "output_type": "execute_result"
    }
   ],
   "source": [
    "strs=\"Kings Never Die\"\n",
    "newstrs=strs.replace(' ','%20')\n",
    "newstrs"
   ]
  },
  {
   "cell_type": "markdown",
   "metadata": {
    "collapsed": true
   },
   "source": [
    "### 7.\tHow to check if String is Palindrome?"
   ]
  },
  {
   "cell_type": "code",
   "execution_count": 36,
   "metadata": {
    "collapsed": false
   },
   "outputs": [
    {
     "name": "stdout",
     "output_type": "stream",
     "text": [
      "Enter the stringkaushik\n",
      "Not Palindrome\n"
     ]
    }
   ],
   "source": [
    "originalString=raw_input(\"Enter the string\")\n",
    "revr=''\n",
    "for x in range(len(originalString)-1,-1,-1):\n",
    "    revr+=originalString[x]\n",
    "if originalString==revr:\n",
    "    print \"Palindrome\"\n",
    "else:\n",
    "    print \"Not Palindrome\"\n"
   ]
  },
  {
   "cell_type": "markdown",
   "metadata": {
    "collapsed": true
   },
   "source": [
    "### 8.\tYou are given a string. Your task is to capitalize each word of the string."
   ]
  },
  {
   "cell_type": "code",
   "execution_count": 42,
   "metadata": {
    "collapsed": false
   },
   "outputs": [
    {
     "data": {
      "text/plain": [
       "'KINGS NEVER DIE'"
      ]
     },
     "execution_count": 42,
     "metadata": {},
     "output_type": "execute_result"
    }
   ],
   "source": [
    "strs=\"Kings never die\"\n",
    "s= strs.upper()\n",
    "s"
   ]
  },
  {
   "cell_type": "markdown",
   "metadata": {
    "collapsed": true
   },
   "source": [
    "### 9.\tYou need to write a function to implement an algorithm which will accept a string of characters and should find the highest occurrence of the character and display it. For example if input is \"aaaaaaaaaaaaaaaaabbbbcddddeeeeee\" it should return \"a\"."
   ]
  },
  {
   "cell_type": "code",
   "execution_count": null,
   "metadata": {
    "collapsed": true
   },
   "outputs": [],
   "source": []
  },
  {
   "cell_type": "markdown",
   "metadata": {
    "collapsed": true
   },
   "source": [
    "### 10.\tHow to count occurrence of a given character in String?"
   ]
  },
  {
   "cell_type": "code",
   "execution_count": null,
   "metadata": {
    "collapsed": true
   },
   "outputs": [],
   "source": []
  }
 ],
 "metadata": {
  "kernelspec": {
   "display_name": "Python 2",
   "language": "python",
   "name": "python2"
  },
  "language_info": {
   "codemirror_mode": {
    "name": "ipython",
    "version": 2
   },
   "file_extension": ".py",
   "mimetype": "text/x-python",
   "name": "python",
   "nbconvert_exporter": "python",
   "pygments_lexer": "ipython2",
   "version": "2.7.13"
  }
 },
 "nbformat": 4,
 "nbformat_minor": 2
}
