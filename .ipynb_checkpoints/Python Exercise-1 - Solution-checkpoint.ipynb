{
 "cells": [
  {
   "cell_type": "markdown",
   "metadata": {
    "collapsed": true
   },
   "source": [
    "### 1.\tWrite a program to find those numbers which are divisible by 7 and multiple of 5, between 1500 and 2700 (both included). "
   ]
  },
  {
   "cell_type": "code",
   "execution_count": 2,
   "metadata": {
    "collapsed": false
   },
   "outputs": [
    {
     "name": "stdout",
     "output_type": "stream",
     "text": [
      "2700\n"
     ]
    }
   ],
   "source": [
    "soln=[]\n",
    "for x in range(1500,2701):\n",
    "    if x%7==0 and x%5==0:\n",
    "        soln.append(x)\n",
    "print x\n"
   ]
  },
  {
   "cell_type": "markdown",
   "metadata": {
    "collapsed": true
   },
   "source": [
    "### Find out if a number is even or odd."
   ]
  },
  {
   "cell_type": "code",
   "execution_count": 5,
   "metadata": {
    "collapsed": false
   },
   "outputs": [
    {
     "name": "stdout",
     "output_type": "stream",
     "text": [
      "Enter a number0\n",
      "Even\n"
     ]
    }
   ],
   "source": [
    "inputNumber=int(raw_input(\"Enter a number\"))\n",
    "if inputNumber%2==0:\n",
    "    print \"Even\"\n",
    "else:\n",
    "    print \"Odd\""
   ]
  },
  {
   "cell_type": "markdown",
   "metadata": {
    "collapsed": true
   },
   "source": [
    "### 3.\tWrite a program to find out if the given currency note is valid or not. If the note is of 1000Rs, it is invalid. If it is of 500 Rs, check if the note is new or old. If it is new, it is valid otherwise it is invalid. (consider 2 variables. One for the value of the currency note and the other for new or old) "
   ]
  },
  {
   "cell_type": "code",
   "execution_count": 9,
   "metadata": {
    "collapsed": false
   },
   "outputs": [
    {
     "name": "stdout",
     "output_type": "stream",
     "text": [
      "Enter the curreny Amount either 1000 or 500500\n",
      "Enter if the currency is Old or New New\n",
      "Valid\n"
     ]
    }
   ],
   "source": [
    "value=int(raw_input(\"Enter the curreny Amount either 1000 or 500\"))\n",
    "if value==1000:\n",
    "    print \"Invalid\"\n",
    "elif value==500:\n",
    "    isOld=raw_input(\"Enter if the currency is Old or New \")\n",
    "    if isOld==\"Old\":\n",
    "        print \"Invalid\"\n",
    "    else:\n",
    "        print \"Valid\""
   ]
  },
  {
   "cell_type": "markdown",
   "metadata": {
    "collapsed": true
   },
   "source": [
    "### 4.\tWrite a program to count the number of even and odd numbers from a series of numbers. Sample numbers : numbers = (1, 2, 3, 4, 5, 6, 7, 8, 9)  "
   ]
  },
  {
   "cell_type": "code",
   "execution_count": 16,
   "metadata": {
    "collapsed": false
   },
   "outputs": [
    {
     "name": "stdout",
     "output_type": "stream",
     "text": [
      "EvenCount 4 ,OddCount 5\n"
     ]
    }
   ],
   "source": [
    "listNumbers=[]\n",
    "inputnum=[1, 2, 3, 4, 5, 6, 7, 8, 9]\n",
    "evencount=0\n",
    "for x in inputnum:\n",
    "     if x%2==0:\n",
    "        evencount+=1\n",
    "oddCount=len(inputnum)-evencount\n",
    "print \"EvenCount {0} ,OddCount {1}\".format(evencount,oddCount)"
   ]
  },
  {
   "cell_type": "markdown",
   "metadata": {
    "collapsed": true
   },
   "source": [
    "### 5.\tHow many times will the following code print \"Welcome”?\n",
    "\n",
    "var count = 0;\n",
    "while(count<10)\n",
    "{\n",
    "document.write(“Welcome”);\n",
    "count+=1;\n",
    "}\n"
   ]
  },
  {
   "cell_type": "code",
   "execution_count": 19,
   "metadata": {
    "collapsed": false
   },
   "outputs": [],
   "source": [
    "#10"
   ]
  },
  {
   "cell_type": "markdown",
   "metadata": {
    "collapsed": true
   },
   "source": [
    "### 6.\tWrite a Python program which iterates the integers from 1 to 50. For multiples of three print \"Fizz\" instead of the number and for the multiples of five print \"Buzz\". For numbers which are multiples of both three and five print \"FizzBuzz\". Sample Output : \n",
    "fizzbuzz \n",
    "1 \n",
    "2 \n",
    "fizz \n",
    "4 \n",
    "buzz \n"
   ]
  },
  {
   "cell_type": "code",
   "execution_count": 21,
   "metadata": {
    "collapsed": false
   },
   "outputs": [
    {
     "name": "stdout",
     "output_type": "stream",
     "text": [
      "['Fizz', 'Buzz', 'Fizz', 'Fizz', 'Buzz', 'Fizz', 15, 'Fizz', 'Buzz', 'Fizz', 'Fizz', 'Buzz', 'Fizz', 30, 'Fizz', 'Buzz', 'Fizz', 'Fizz', 'Buzz', 'Fizz', 45, 'Fizz', 'Buzz']\n"
     ]
    }
   ],
   "source": [
    "result=[]\n",
    "for x in range(1,51):\n",
    "    if x%3==0 and x%5==0:\n",
    "      result.append(x)\n",
    "    elif x%3==0:\n",
    "        result.append(\"Fizz\")\n",
    "    elif x%5==0:\n",
    "        result.append(\"Buzz\")\n",
    "print result"
   ]
  },
  {
   "cell_type": "markdown",
   "metadata": {
    "collapsed": true
   },
   "source": [
    "### 7.\tWrite a program to calculate the sum of n integer numbers "
   ]
  },
  {
   "cell_type": "code",
   "execution_count": 22,
   "metadata": {
    "collapsed": false
   },
   "outputs": [
    {
     "data": {
      "text/plain": [
       "223"
      ]
     },
     "execution_count": 22,
     "metadata": {},
     "output_type": "execute_result"
    }
   ],
   "source": [
    "listintegers=[1,3,4,5,67,90,32,21]\n",
    "sum=0\n",
    "for x in listintegers:\n",
    "    sum+=x\n",
    "sum"
   ]
  },
  {
   "cell_type": "markdown",
   "metadata": {
    "collapsed": true
   },
   "source": [
    "### 8.\tWrite a program to get the Fibonacci series between 0 to 50. "
   ]
  },
  {
   "cell_type": "code",
   "execution_count": 26,
   "metadata": {
    "collapsed": false
   },
   "outputs": [
    {
     "name": "stdout",
     "output_type": "stream",
     "text": [
      "0\n",
      "1\n",
      "1\n",
      "2\n",
      "3\n",
      "5\n",
      "8\n",
      "13\n",
      "21\n",
      "34\n",
      "55\n",
      "89\n",
      "144\n",
      "233\n",
      "377\n",
      "610\n",
      "987\n",
      "1597\n",
      "2584\n",
      "4181\n",
      "6765\n",
      "10946\n",
      "17711\n",
      "28657\n",
      "46368\n",
      "75025\n",
      "121393\n",
      "196418\n",
      "317811\n",
      "514229\n",
      "832040\n",
      "1346269\n",
      "2178309\n",
      "3524578\n",
      "5702887\n",
      "9227465\n",
      "14930352\n",
      "24157817\n",
      "39088169\n",
      "63245986\n",
      "102334155\n",
      "165580141\n",
      "267914296\n",
      "433494437\n",
      "701408733\n",
      "1134903170\n",
      "1836311903\n",
      "2971215073\n",
      "4807526976\n",
      "7778742049\n",
      "12586269025\n",
      "20365011074\n",
      "32951280099\n"
     ]
    }
   ],
   "source": [
    "a=0\n",
    "b=1\n",
    "print a\n",
    "print b\n",
    "for x in range(0,51):\n",
    "    c=a+b\n",
    "    a=b\n",
    "    b=c\n",
    "    print c"
   ]
  },
  {
   "cell_type": "markdown",
   "metadata": {
    "collapsed": true
   },
   "source": [
    "### 9.\tWrite a program to print multiplication table of 1-5"
   ]
  },
  {
   "cell_type": "code",
   "execution_count": 31,
   "metadata": {
    "collapsed": false
   },
   "outputs": [
    {
     "name": "stdout",
     "output_type": "stream",
     "text": [
      "5*1= 5\n",
      "5*2= 10\n",
      "5*3= 15\n",
      "5*4= 20\n",
      "5*5= 25\n",
      "5*6= 30\n",
      "5*7= 35\n",
      "5*8= 40\n",
      "5*9= 45\n",
      "5*10= 50\n"
     ]
    }
   ],
   "source": [
    "for x in range(1,11):\n",
    "    print '5*{0}= {1}'.format(x,5*x)"
   ]
  },
  {
   "cell_type": "markdown",
   "metadata": {
    "collapsed": true
   },
   "source": [
    "### 10.\tWrite a program to print numbers from 20 to 1 (reverse)."
   ]
  },
  {
   "cell_type": "code",
   "execution_count": 38,
   "metadata": {
    "collapsed": false
   },
   "outputs": [
    {
     "name": "stdout",
     "output_type": "stream",
     "text": [
      "20\n",
      "19\n",
      "18\n",
      "17\n",
      "16\n",
      "15\n",
      "14\n",
      "13\n",
      "12\n",
      "11\n",
      "10\n",
      "9\n",
      "8\n",
      "7\n",
      "6\n",
      "5\n",
      "4\n",
      "3\n",
      "2\n",
      "1\n"
     ]
    }
   ],
   "source": [
    "for x in range(20,0,-1):\n",
    "    print x"
   ]
  },
  {
   "cell_type": "markdown",
   "metadata": {
    "collapsed": true
   },
   "source": [
    "### 11.\tWrite a program to check if a number is prime number or not."
   ]
  },
  {
   "cell_type": "code",
   "execution_count": 47,
   "metadata": {
    "collapsed": false
   },
   "outputs": [
    {
     "name": "stdout",
     "output_type": "stream",
     "text": [
      "Enter a number 9\n",
      "Not prime\n"
     ]
    }
   ],
   "source": [
    "num=int(raw_input(\"Enter a number \"))\n",
    "count=0\n",
    "for x in range(2,num):\n",
    "    if num%x==0:\n",
    "        count=1\n",
    "        break\n",
    "if count==1:\n",
    "    print \"Not prime\"\n",
    "else:\n",
    "    print \"Prime\"\n",
    "    "
   ]
  },
  {
   "cell_type": "markdown",
   "metadata": {
    "collapsed": true
   },
   "source": [
    "### 12.\tCheck whether a number is positive, zero or negative."
   ]
  },
  {
   "cell_type": "code",
   "execution_count": 51,
   "metadata": {
    "collapsed": false
   },
   "outputs": [
    {
     "name": "stdout",
     "output_type": "stream",
     "text": [
      "Enter the number20\n",
      "Positive\n"
     ]
    }
   ],
   "source": [
    "num=int(raw_input(\"Enter the number\"))\n",
    "if num==0:\n",
    "    print \"Zero\"\n",
    "elif num>0:\n",
    "    print \"Positive\"\n",
    "elif num<0:\n",
    "    print \"Negative\""
   ]
  },
  {
   "cell_type": "markdown",
   "metadata": {
    "collapsed": true
   },
   "source": [
    "### 13.\tWrite a program to calculate the average of n integer numbers"
   ]
  },
  {
   "cell_type": "code",
   "execution_count": 53,
   "metadata": {
    "collapsed": false
   },
   "outputs": [
    {
     "name": "stdout",
     "output_type": "stream",
     "text": [
      "Enter a number10\n",
      "Avg of n numbers 5\n"
     ]
    }
   ],
   "source": [
    "nNumbers=int(raw_input(\"Enter a number\"))\n",
    "sum=0\n",
    "for x in range(0,nNumbers+1):\n",
    "    sum+=x\n",
    "print \"Avg of n numbers {0}\".format(sum//nNumbers)"
   ]
  },
  {
   "cell_type": "markdown",
   "metadata": {
    "collapsed": true
   },
   "source": [
    "### 14.\tWrite a program to find the maximum of 3 numbers"
   ]
  },
  {
   "cell_type": "code",
   "execution_count": 54,
   "metadata": {
    "collapsed": false
   },
   "outputs": [
    {
     "name": "stdout",
     "output_type": "stream",
     "text": [
      "20\n"
     ]
    }
   ],
   "source": [
    "a=20\n",
    "b=10\n",
    "c=15\n",
    "\n",
    "if a>b and a>c:\n",
    "\tprint a\n",
    "elif b>c:\n",
    "\tprint b\n",
    "else:\n",
    "\tprint c"
   ]
  },
  {
   "cell_type": "markdown",
   "metadata": {
    "collapsed": true
   },
   "source": [
    "### 15.\tWrite a program to find the minimum of 3 numbers."
   ]
  },
  {
   "cell_type": "code",
   "execution_count": 55,
   "metadata": {
    "collapsed": false
   },
   "outputs": [
    {
     "name": "stdout",
     "output_type": "stream",
     "text": [
      "10\n"
     ]
    }
   ],
   "source": [
    "a=20\n",
    "b=10\n",
    "c=15\n",
    "\n",
    "if a<b and a<c:\n",
    "\tprint a\n",
    "elif b<c:\n",
    "\tprint b\n",
    "else:\n",
    "\tprint c"
   ]
  }
 ],
 "metadata": {
  "kernelspec": {
   "display_name": "Python 2",
   "language": "python",
   "name": "python2"
  },
  "language_info": {
   "codemirror_mode": {
    "name": "ipython",
    "version": 2
   },
   "file_extension": ".py",
   "mimetype": "text/x-python",
   "name": "python",
   "nbconvert_exporter": "python",
   "pygments_lexer": "ipython2",
   "version": "2.7.13"
  }
 },
 "nbformat": 4,
 "nbformat_minor": 2
}
