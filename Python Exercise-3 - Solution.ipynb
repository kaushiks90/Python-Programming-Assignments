{
 "cells": [
  {
   "cell_type": "markdown",
   "metadata": {
    "collapsed": true
   },
   "source": [
    "### 1. Write a Python function called compare date that takes as arguments two lists of two integers each. Each list contains a month and a year, in that order. The function should return -1 if the first month and year are earlier than the second month and year, 0 if they are the same, and 1 if the first month and year are later than the second. Your code should work for any legal input for month and year. Example calls and expected output are shown below:\n",
    ">>> compare_date( [10,1995], [8,1995] )\n",
    "1\n",
    ">>> compare_date( [5,2010], [5,2010] )\n",
    "0\n",
    ">>> compare_date( [10,1993], [8,1998] )\n",
    "-1\n"
   ]
  },
  {
   "cell_type": "code",
   "execution_count": 10,
   "metadata": {
    "collapsed": false
   },
   "outputs": [
    {
     "name": "stdout",
     "output_type": "stream",
     "text": [
      "1\n",
      "0\n",
      "-1\n"
     ]
    }
   ],
   "source": [
    "def compare_date(list1,list2):\n",
    "    if list1[1]<list2[1]:\n",
    "        return -1\n",
    "    elif list1[0]==list2[0] and list1[1]==list2[1]:\n",
    "        return 0\n",
    "    elif list1[0]>list2[0] and list1[1]>=list2[1]:\n",
    "        return 1\n",
    "print compare_date( [10,1995], [8,1995] )\n",
    "print compare_date( [5,2010], [5,2010] )\n",
    "print compare_date( [10,1993], [8,1998] )\n",
    "\n",
    "\n",
    "    \n",
    "    "
   ]
  },
  {
   "cell_type": "markdown",
   "metadata": {
    "collapsed": true
   },
   "source": [
    "### 2. Assume v is a list containing numbers. Write Python code to find and print the highest two values in v. If the list contains only one number, print only that number. If the list is empty, print nothing. For example, if we assigned \n",
    "v = [ 7, 3, 1, 5, 10, 6 ]\n",
    "then the output of your code should be something like\n",
    "7 10\n",
    "If we are given that\n",
    "v = [ 7 ]\n",
    "then the output of your code should be 7\n",
    "\n",
    "\n"
   ]
  },
  {
   "cell_type": "code",
   "execution_count": 31,
   "metadata": {
    "collapsed": false
   },
   "outputs": [
    {
     "name": "stdout",
     "output_type": "stream",
     "text": [
      "10 6\n"
     ]
    }
   ],
   "source": [
    "v =  [ 7, 3, 1, 5, 10, 6 ]\n",
    "if len(v)==1:\n",
    "    print v[0]\n",
    "elif len(v)==0:\n",
    "    print \"\"\n",
    "else:\n",
    "    maxele=max(v)\n",
    "    for x in range(0,len(v)):\n",
    "        if v[x]>v[x+1] and v[x] !=maxele:\n",
    "            fmax=x\n",
    "        else:\n",
    "            fmax=v[x+1]\n",
    "        if x+1 ==len(v)-1:\n",
    "            break\n",
    "    print maxele,fmax"
   ]
  },
  {
   "cell_type": "markdown",
   "metadata": {
    "collapsed": true
   },
   "source": [
    "### 3. Consider a data, where just the name of the restaurant, the type of restaurant, and the ratings are provided. Assume these values have already been read into a list of lists of the form below:\n",
    "restaurants = [ [ Acme, Italian, 2, 4, 3, 5],[ Flintstone, Steak, 5, 2, 4, 3, 3, 4],[ Bella Troy, Italian, 1, 4, 5] ]\n",
    "Write a segment of Python code that prints all Italian restaurants in the restaurants list that have no ratings of value 1 and at least one rating of value 5. In the above example, Acme would be printed in the output, but Flintstone and Bella Troy would not. Flintstone is not Italian and Bella Troy has a 1 rating. \n"
   ]
  },
  {
   "cell_type": "code",
   "execution_count": 41,
   "metadata": {
    "collapsed": false
   },
   "outputs": [
    {
     "name": "stdout",
     "output_type": "stream",
     "text": [
      "['Acme', 'Italian', 2, 4, 3, 5]\n"
     ]
    }
   ],
   "source": [
    "restaurants = [ [ 'Acme', 'Italian', 2, 4, 3, 5],[ 'Flintstone', 'Steak', 5, 2, 4, 3, 3, 4],[ 'Bella Troy', 'Italian', 1, 4, 5] ] \n",
    "newlist=['Italian',5,1]\n",
    "\n",
    "for splitrestaurant in restaurants:\n",
    "    if newlist[0] in splitrestaurant and newlist[1] in splitrestaurant and newlist[2] not in splitrestaurant:\n",
    "        print splitrestaurant\n",
    "    "
   ]
  },
  {
   "cell_type": "markdown",
   "metadata": {
    "collapsed": true
   },
   "source": [
    "### 4. In the game of chess you can often estimate how well you are doing by adding the values of the pieces you have captured. The pieces are Pawns, Bishops, Knights, Rooks and Queens. Their values are\n",
    "P - (P)awn, value = 1\n",
    "B - (B)ishop, value = 3\n",
    "K - (K)night, value = 3\n",
    "R - (R)ook, value = 5\n",
    "Q - (Q)ueen, value = 9\n",
    "Write a Python function called chess_score that takes a single string as an argument and returns the\n",
    "combined  values represented by the pieces in the string. You may assume that only P, B, K, R and Q appear in the string. You may not use any if statements and you may not use any loops. As an example,\n",
    "print chess_score( BQBP )\n",
    "should output the value 16 because there are 2 Bishops (3 points each), 1 Queen (9 points each), and 1 Pawn (1 point each).\n"
   ]
  },
  {
   "cell_type": "code",
   "execution_count": 43,
   "metadata": {
    "collapsed": false
   },
   "outputs": [
    {
     "name": "stdout",
     "output_type": "stream",
     "text": [
      "16\n"
     ]
    }
   ],
   "source": [
    "def chess_score(strs):\n",
    "    P=strs.count('P')\n",
    "    B=strs.count('B')*3\n",
    "    K=strs.count('K')*3\n",
    "    R=strs.count('R')*5\n",
    "    Q=strs.count('Q')*9\n",
    "    \n",
    "    out=P+B+K+R+Q\n",
    "    return out\n",
    "    \n",
    "print chess_score('BQBP')\n",
    "\n"
   ]
  },
  {
   "cell_type": "markdown",
   "metadata": {
    "collapsed": true
   },
   "source": [
    "### 5. You are given a file that contains, on each line of input, three integers separated by commas. Write a Python program that sums all of the first integers, the second integers, and the third integers, outputting the resulting sums all on one line, separated by commas. As a simple example, if the input is\n",
    "2, 5,7 \n",
    "3, 6, 10\n",
    "1, 2, -3\n",
    "2, 4, 1\n",
    "Then the output should be\n",
    "8, 17, 15\n"
   ]
  },
  {
   "cell_type": "code",
   "execution_count": 58,
   "metadata": {
    "collapsed": false
   },
   "outputs": [
    {
     "name": "stdout",
     "output_type": "stream",
     "text": [
      "8 17 15\n"
     ]
    }
   ],
   "source": [
    "import csv\n",
    "csvImported=[]\n",
    "val1=0\n",
    "val2=0\n",
    "val3=0\n",
    "with open(\"C:\\Users\\Karthik\\Desktop\\GitHub\\Assignments\\Data\\Exercise3-Problem-5.txt\") as f:\n",
    "    for x in csv.reader(f):\n",
    "        csvImported.append(x)\n",
    "for x in csvImported:\n",
    "    for y in range(0,len(x)):\n",
    "        if y==0:\n",
    "            val1+=int(x[y])\n",
    "        if y==1:\n",
    "            val2+=int(x[y])\n",
    "        if y==2:\n",
    "            val3+=int(x[y])\n",
    "print val1,val2,val3\n",
    "            "
   ]
  },
  {
   "cell_type": "markdown",
   "metadata": {
    "collapsed": true
   },
   "source": [
    "### 6. Write Python code to generate the following ranges\n",
    "(a) (100; 99; 98; : : : ; 0)\n",
    "(b) (55; 53; 51; : : : ;-1)\n",
    "(c) (3; 5; 7; 9; : : : ; 29)\n",
    "(d) (-95;-90;-85; : : : ; 85; 90)\n",
    "\n"
   ]
  },
  {
   "cell_type": "code",
   "execution_count": 65,
   "metadata": {
    "collapsed": false
   },
   "outputs": [],
   "source": [
    "# for x in range(100,-1,-1):\n",
    "#     print x\n",
    "\n",
    "# for x in range(55,-2,-1):\n",
    "#     print x\n",
    "\n",
    "# for x in range(3,30,2):\n",
    "#     print x\n",
    "\n",
    "# for x in range(-95,95,5):\n",
    "#     print x\n",
    "\n"
   ]
  },
  {
   "cell_type": "markdown",
   "metadata": {
    "collapsed": true
   },
   "source": [
    "### 7. Write a while loop to add all of the numbers in a list v until it reaches a negative number or until it reaches the end of the list. Store the sum in the variable result. Your code should work for any version of v containing only numbers. For example, the value of result should be 25 after the loop for both of the following lists:\n",
    "v = [ 10, 12, 3, -5, 5, 6 ]\n",
    "v = [ 0, 10, 3, 6, 5, 1 ]\n"
   ]
  },
  {
   "cell_type": "code",
   "execution_count": 2,
   "metadata": {
    "collapsed": false
   },
   "outputs": [
    {
     "name": "stdout",
     "output_type": "stream",
     "text": [
      "25\n"
     ]
    }
   ],
   "source": [
    "v = [ 0, 10, 3, 6, 5, 1 ]\n",
    "i=0;\n",
    "j=len(v)\n",
    "sum=0\n",
    "while(i<len(v)):\n",
    "    if v[i]<0:\n",
    "        break\n",
    "    else:\n",
    "        sum+=v[i]\n",
    "    i+=1\n",
    "print sum\n"
   ]
  },
  {
   "cell_type": "markdown",
   "metadata": {
    "collapsed": true
   },
   "source": [
    "### 8. Write Python code that takes a list of numbers, v, and outputs the positive values that are in v in increasing order, one value per line. If there are no positive values, then the output should be the string 'None'. You may assume there is at least one value in the list. As an example, v = [ 17, -5, 15, -3, 12, -5, 0, 12, 22, -1 ]\n",
    "Then the output of your code should be\n",
    "12\n",
    "12\n",
    "15\n",
    "17\n",
    "22\n",
    "As a second example, if\n",
    "v = [ -17, -5, -15, -3, -12, -5, 0, -12, -22, -1 ]\n",
    "then then output should be just\n",
    "None\n",
    "\n"
   ]
  },
  {
   "cell_type": "code",
   "execution_count": 5,
   "metadata": {
    "collapsed": false
   },
   "outputs": [
    {
     "name": "stdout",
     "output_type": "stream",
     "text": [
      "None\n"
     ]
    }
   ],
   "source": [
    "v = [ 17, -5, 15, -3, 12, -5, 0, 12, 22, -1 ]\n",
    "count=0\n",
    "newnum=[]\n",
    "for x in v:\n",
    "    if x>0:\n",
    "        count=1\n",
    "        newnum.append(x)\n",
    "if count>0:\n",
    "    print sorted(newnum)\n",
    "else:\n",
    "    print \"None\""
   ]
  },
  {
   "cell_type": "markdown",
   "metadata": {
    "collapsed": true
   },
   "source": [
    "### 9. What is the output of the following operations:\n",
    ">>> mylist = [1,4,8,12,6]\n",
    ">>> x = mylist.sort()\n",
    ">>> print x\n",
    ">>> mylist = [1,4,8,12,6]\n",
    ">>> slice1 = mylist[2:4]\n",
    ">>> slice1[0] = 20\n",
    ">>> print slice1\n",
    ">>> print mylist\n"
   ]
  },
  {
   "cell_type": "code",
   "execution_count": null,
   "metadata": {
    "collapsed": true
   },
   "outputs": [],
   "source": [
    "#1,4,6,8,12\n",
    "#20,12,6\n",
    "#1,4,8,12,6"
   ]
  },
  {
   "cell_type": "markdown",
   "metadata": {
    "collapsed": true
   },
   "source": [
    "### 10. Write a Python for loop to print out the values from the list v that are positive (0 is NOT a positive\n",
    "number).\n"
   ]
  },
  {
   "cell_type": "code",
   "execution_count": 11,
   "metadata": {
    "collapsed": false
   },
   "outputs": [
    {
     "name": "stdout",
     "output_type": "stream",
     "text": [
      "[5, 9]\n"
     ]
    }
   ],
   "source": [
    "v=[-1,5,-8,-6,0,9]\n",
    "new=[]\n",
    "for x in v:\n",
    "    if x>0:\n",
    "        new.append(x)\n",
    "print new\n",
    "    "
   ]
  },
  {
   "cell_type": "markdown",
   "metadata": {
    "collapsed": true
   },
   "source": [
    "### 11. What is the output of the following program?\n",
    "def spam(a1,b1,a2,b2):\n",
    "\tif (a1 == a2) and (b1 > b2):\n",
    "\t\treturn 1\n",
    "\telse:\n",
    "\t\treturn 0\n",
    "def egg(a1,b1,a2,b2):\n",
    "\tif (a1 > a2) and (b1 == b2):\n",
    "\t\treturn 0\n",
    "\telse:\n",
    "\t\treturn 1\n",
    "a1 = 3\n",
    "b1 = 4\n",
    "a2 = 6\n",
    "b2 = 4\n",
    "print spam(a2, b2, a1, b1)\n",
    "print egg(a1, b1, a2, b2)\n",
    "c = spam(a1, b2, a2, b1)\n",
    "print c\n",
    "c += egg(a1, b2, a2, b1)\n",
    "print c\n"
   ]
  },
  {
   "cell_type": "code",
   "execution_count": 13,
   "metadata": {
    "collapsed": false
   },
   "outputs": [],
   "source": [
    "#0\n",
    "#1\n",
    "#0\n",
    "#1\n"
   ]
  },
  {
   "cell_type": "markdown",
   "metadata": {
    "collapsed": true
   },
   "source": [
    "### 12.Give the output of each of the following\n",
    "(a)\n",
    "i = 4\n",
    "L = [ 0, 12, 3, 5, 2, -1 ]\n",
    "while 0 <= i and i < len(L):\n",
    "if L[i] < 0:\n",
    "break\n",
    "else:\n",
    "i = L[i]\n",
    "print i, L[i]\n",
    "\n",
    "(b)\n",
    "tough = 2\n",
    "for i in range(2):\n",
    "s = 1\n",
    "for j in range(i, tough):\n",
    "s += tough\n",
    "print s\n",
    "print tough\n",
    "tough = s\n",
    "print tough\n"
   ]
  },
  {
   "cell_type": "code",
   "execution_count": 16,
   "metadata": {
    "collapsed": false
   },
   "outputs": [
    {
     "name": "stdout",
     "output_type": "stream",
     "text": [
      "3\n",
      "5\n",
      "2\n",
      "6\n",
      "11\n",
      "16\n",
      "21\n",
      "5\n",
      "21\n"
     ]
    }
   ],
   "source": [
    "tough = 2\n",
    "for i in range(2):\n",
    "    s = 1\n",
    "    for j in range(i, tough):\n",
    "        s += tough\n",
    "        print s\n",
    "    print tough\n",
    "    tough = s\n",
    "print tough"
   ]
  },
  {
   "cell_type": "markdown",
   "metadata": {
    "collapsed": true
   },
   "source": [
    "### 13. Suppose a list of words in alphabetical order has been assigned to the variable called words. For example,\n",
    "we might have the assignment words = [ aardvark , abaka, expedite, experience, shoetrees, tastetest, test ]\n",
    "Write code to find and output the first and the last string in words that start and end with the same letter and are at least 8 characters long. You may assume that at least one word in words satisfies this condition. You may write a function if you wish. For the above example, the output should be\n",
    "6\n",
    "expedite\n",
    "tastetest\n"
   ]
  },
  {
   "cell_type": "code",
   "execution_count": 17,
   "metadata": {
    "collapsed": false
   },
   "outputs": [
    {
     "data": {
      "text/plain": [
       "['expedite', 'experience', 'shoetrees', 'tastetest']"
      ]
     },
     "execution_count": 17,
     "metadata": {},
     "output_type": "execute_result"
    }
   ],
   "source": [
    "words =[ 'aardvark' , 'abaka', 'expedite', 'experience', 'shoetrees', 'tastetest', 'test' ]\n",
    "newwords=[]\n",
    "for x in words:\n",
    "    if x[0]==x[-1] and len(x)>=8:\n",
    "        newwords.append(x)\n",
    "newwords\n",
    "        "
   ]
  },
  {
   "cell_type": "markdown",
   "metadata": {
    "collapsed": true
   },
   "source": [
    "### 14. Please show the output from the following code?\n",
    "def get_min(v):\n",
    "\tv.sort()\n",
    "\treturn v[0]\n",
    "def get_max(v):\n",
    "\tx = max(v)\n",
    "\treturn x\n",
    "v = [ 14, 19, 4, 5, 12, 8 ]\n",
    "if len(v) > 10 and get_min(v) > 6:\n",
    "\tprint \"Hello\"\n",
    "\tprint v[0]\n",
    "\tprint v[4]\n",
    "else:\n",
    "\tprint \"So long\"\n",
    "\tprint v[0]\n",
    "\tprint v[-1]\n",
    "if len(v) < 10 or get_max(v):\n",
    "\tprint get_max(v)\n",
    "\tprint v[0]\n",
    "\tprint get_min(v)\n",
    "\tprint v[0]\n"
   ]
  },
  {
   "cell_type": "code",
   "execution_count": 32,
   "metadata": {
    "collapsed": false
   },
   "outputs": [],
   "source": [
    "# So long\n",
    "# 14\n",
    "# 8\n",
    "# 19\n",
    "# 14\n",
    "# 4\n",
    "# 4"
   ]
  },
  {
   "cell_type": "markdown",
   "metadata": {
    "collapsed": true
   },
   "source": [
    "### 15. Write code that uses a range (and NO loops) to generate the following lists:\n",
    "v0 = [ 10, 9, 8, 7, 6, 5, 4, 3 ]\n",
    "v1 = [ -10, -3, 4, 11, 18, 25, 32, 39 ]\n"
   ]
  },
  {
   "cell_type": "code",
   "execution_count": 22,
   "metadata": {
    "collapsed": false
   },
   "outputs": [
    {
     "name": "stdout",
     "output_type": "stream",
     "text": [
      "[10, 9, 8, 7, 6, 5, 4, 3]\n",
      "[-10, -3, 4, 11, 18, 25, 32, 39]\n"
     ]
    }
   ],
   "source": [
    "v0= range(10,2,-1)\n",
    "v1=range(-10,46,7)\n",
    "print v0\n",
    "print v1"
   ]
  },
  {
   "cell_type": "markdown",
   "metadata": {
    "collapsed": true
   },
   "source": [
    "### 16. Consider the following list of lists of strings:\n",
    "wordy = [ [ impala, malibu, camry, jetta],[ zebra, impala, lion, impala, malibu, zebra ],[ tiger, lion, cowboy, jet, 49er ],[ ],[ five, seven, nine] ]\n",
    "(a) Show the output:\n",
    "print wordy[2][1]\n",
    "print wordy[1][2][3]\n",
    "print len(wordy)\n",
    "print len(wordy[1])\n",
    "(b) Write a loop to print the last word of each list in wordy, stopping when either an empty list is found\n",
    "or when there are no more lists. For the above example, the output should be\n",
    "jetta\n",
    "zebra\n",
    "49er\n"
   ]
  },
  {
   "cell_type": "code",
   "execution_count": 28,
   "metadata": {
    "collapsed": false
   },
   "outputs": [
    {
     "name": "stdout",
     "output_type": "stream",
     "text": [
      "lion\n",
      "n\n",
      "5\n",
      "6\n"
     ]
    }
   ],
   "source": [
    "wordy = [ [ 'impala', 'malibu', 'camry', 'jetta'],[ 'zebra', 'impala', 'lion', 'impala', 'malibu', 'zebra' ],[ 'tiger', 'lion', 'cowboy', 'jet', '49er' ],[ ],[ 'five', 'seven', 'nine'] ]\n",
    "print wordy[2][1]\n",
    "print wordy[1][2][3]\n",
    "print len(wordy)\n",
    "print len(wordy[1])"
   ]
  },
  {
   "cell_type": "code",
   "execution_count": 30,
   "metadata": {
    "collapsed": false
   },
   "outputs": [
    {
     "name": "stdout",
     "output_type": "stream",
     "text": [
      "['jetta', 'zebra', '49er']\n"
     ]
    }
   ],
   "source": [
    "newWordy=[]\n",
    "for x in wordy:\n",
    "    if len(x)==0:\n",
    "        break\n",
    "    else :\n",
    "        newWordy.append(x[-1])\n",
    "print newWordy"
   ]
  },
  {
   "cell_type": "markdown",
   "metadata": {
    "collapsed": true
   },
   "source": [
    "### 17. Show the output of the following code. Make sure we can determine what is output and what is scratch work.\n",
    "def remove_something(z):\n",
    "\tz.remove( z[z[0]] )\n",
    "\tv = [ 1, 8, [12, 8], hello, car ]\n",
    "\tx = salad\n",
    "\tif len(v[2]) >= 2:\n",
    "\t\tif x > v[3]:\n",
    "\t\t\tprint One\n",
    "\t\tif v[0] == 1:\n",
    "\t\t\tprint Three\n",
    "\t\telse:\n",
    "\t\t\tprint Two\n",
    "\telif len(v) == 5:\n",
    "\t\tprint Six\n",
    "\telse:\n",
    "\t\tv.append(five)\n",
    "\t\tprint Ten\n",
    "\n",
    "remove_something(v)\n",
    "print v[1]\n",
    "print v[2]\n",
    "v.append(x)\n",
    "print len(v)\n"
   ]
  },
  {
   "cell_type": "code",
   "execution_count": 38,
   "metadata": {
    "collapsed": false
   },
   "outputs": [],
   "source": [
    "#Six\n",
    "#8\n",
    "#12,8\n",
    "#6"
   ]
  },
  {
   "cell_type": "markdown",
   "metadata": {
    "collapsed": true
   },
   "source": [
    "### 18. You are given in variable x a list of lists represented as an NxN grid in which each list corresponds to one row of the grid. For example, a 4x4 grid is given by:\n",
    "x = [[1,2,3,4],[4,3,2,1],[2,1,4,2],[2,1,4,5]]\n",
    "Write a piece of code to print the grid in the following format with a vertical and horizontal line right in the middle:\n",
    "1 2 | 3 4\n",
    "4 3 | 2 1\n",
    "----|----\n",
    "2 1 | 4 2\n",
    "2 1 | 4 5\n",
    "\n"
   ]
  },
  {
   "cell_type": "code",
   "execution_count": 67,
   "metadata": {
    "collapsed": false
   },
   "outputs": [
    {
     "name": "stdout",
     "output_type": "stream",
     "text": [
      "[1, 2, '|', 3, 4]\n",
      "[4, 3, '|', 2, 1]\n",
      "['-', ' | ', '-']\n",
      "[2, 1, '|', 4, 2]\n",
      "[2, 1, '|', 4, 5]\n"
     ]
    }
   ],
   "source": [
    "x = [[1,2,3,4],[4,3,2,1],[2,1,4,2],[2,1,4,5]]\n",
    "\n",
    "count=0\n",
    "for y in x:\n",
    "    newx=[]\n",
    "    for z in range(0,len(y)):\n",
    "        if z%2==0 and z!=0:\n",
    "            newx.append('|')\n",
    "            newx.append(y[z])\n",
    "        else:\n",
    "            newx.append(y[z])\n",
    "    count+=1\n",
    "    if count==3:\n",
    "        l=['-',' | ' ,'-']\n",
    "        print l\n",
    "    \n",
    "    print newx\n"
   ]
  },
  {
   "cell_type": "markdown",
   "metadata": {
    "collapsed": true
   },
   "source": [
    "### 19. Suppose you are given the scores of two athletes in various competitions, given in two separate lists. Assume there are unknown number of competitions numbered 1,2,3, etc. and the length of the two lists is the same.\n",
    "a1 = [11,8,11,9]\n",
    "a2 = [11,9,8,12]\n",
    "For example according this to list, both athletes got a score of 11 in competition 1. Print the index of all the competitions in which a2 did better. For example, for the above lists, we would print: a2 is better in 2 4\n",
    "If there is no value in which a2 is better, then you should print:\n",
    "a2 is never better\n",
    "\n"
   ]
  },
  {
   "cell_type": "code",
   "execution_count": 44,
   "metadata": {
    "collapsed": false
   },
   "outputs": [
    {
     "name": "stdout",
     "output_type": "stream",
     "text": [
      "a2 is better in [2, 4]\n"
     ]
    }
   ],
   "source": [
    "a1 = [11,8,11,9]\n",
    "a2 = [11,9,8,12]\n",
    "\n",
    "betterA2=[]\n",
    "for x in range(0,len(a1)):\n",
    "    if a2[x]>a1[x]:\n",
    "        betterA2.append(x+1)\n",
    "print 'a2 is better in', betterA2"
   ]
  },
  {
   "cell_type": "markdown",
   "metadata": {
    "collapsed": true
   },
   "source": [
    "### 20. What is the output from the following code:\n",
    ">>> L1 = [cat, dog, hawk, tiger, parrot]\n",
    ">>> print L1[1:-1]\n",
    ">>> print L1[1:-2]\n",
    ">>> print L1[1:-4]\n",
    ">>> print L1[1:0]\n",
    ">>> print L1[1:10]\n",
    ">>> print L1[::-1]\n",
    ">>> print L1[1:4:2]\n",
    ">>> print L1[::-2]\n"
   ]
  },
  {
   "cell_type": "code",
   "execution_count": 11,
   "metadata": {
    "collapsed": false
   },
   "outputs": [
    {
     "name": "stdout",
     "output_type": "stream",
     "text": [
      "['dog', 'hawk', 'tiger']\n",
      "['dog', 'hawk']\n",
      "[]\n",
      "[]\n",
      "['dog', 'hawk', 'tiger', 'parrot']\n",
      "['parrot', 'tiger', 'hawk', 'dog', 'cat']\n",
      "['dog', 'tiger']\n",
      "['parrot', 'hawk', 'cat']\n"
     ]
    }
   ],
   "source": [
    "L1 = ['cat', 'dog', 'hawk', 'tiger', 'parrot']\n",
    "print L1[1:-1]\n",
    "print L1[1:-2]\n",
    "print L1[1:-4]\n",
    "print L1[1:0]\n",
    "print L1[1:10]\n",
    "print L1[::-1]\n",
    "print L1[1:4:2]\n",
    "print L1[::-2]"
   ]
  }
 ],
 "metadata": {
  "kernelspec": {
   "display_name": "Python 2",
   "language": "python",
   "name": "python2"
  },
  "language_info": {
   "codemirror_mode": {
    "name": "ipython",
    "version": 2
   },
   "file_extension": ".py",
   "mimetype": "text/x-python",
   "name": "python",
   "nbconvert_exporter": "python",
   "pygments_lexer": "ipython2",
   "version": "2.7.13"
  }
 },
 "nbformat": 4,
 "nbformat_minor": 2
}
